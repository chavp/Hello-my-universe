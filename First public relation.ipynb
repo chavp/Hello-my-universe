{
 "cells": [
  {
   "cell_type": "code",
   "execution_count": 1,
   "id": "e3c0934d-8538-4497-9181-44b2aeba4e95",
   "metadata": {},
   "outputs": [
    {
     "name": "stdout",
     "output_type": "stream",
     "text": [
      "Hello population of my world\n"
     ]
    }
   ],
   "source": [
    "print(\"Hello population of my world\")"
   ]
  },
  {
   "cell_type": "code",
   "execution_count": null,
   "id": "9237bd79-a5ff-46e5-af4f-553fe800f309",
   "metadata": {},
   "outputs": [],
   "source": []
  }
 ],
 "metadata": {
  "kernelspec": {
   "display_name": "Python 3 (ipykernel)",
   "language": "python",
   "name": "python3"
  },
  "language_info": {
   "codemirror_mode": {
    "name": "ipython",
    "version": 3
   },
   "file_extension": ".py",
   "mimetype": "text/x-python",
   "name": "python",
   "nbconvert_exporter": "python",
   "pygments_lexer": "ipython3",
   "version": "3.9.13"
  }
 },
 "nbformat": 4,
 "nbformat_minor": 5
}
